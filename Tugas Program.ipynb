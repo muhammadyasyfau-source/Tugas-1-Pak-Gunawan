{
  "nbformat": 4,
  "nbformat_minor": 0,
  "metadata": {
    "colab": {
      "provenance": [],
      "authorship_tag": "ABX9TyN46tp1AiVHCU3qIBKoqrLN",
      "include_colab_link": true
    },
    "kernelspec": {
      "name": "python3",
      "display_name": "Python 3"
    },
    "language_info": {
      "name": "python"
    }
  },
  "cells": [
    {
      "cell_type": "markdown",
      "metadata": {
        "id": "view-in-github",
        "colab_type": "text"
      },
      "source": [
        "<a href=\"https://colab.research.google.com/github/muhammadyasyfau-source/Tugas-1-Pak-Gunawan/blob/main/Tugas%20Program.ipynb\" target=\"_parent\"><img src=\"https://colab.research.google.com/assets/colab-badge.svg\" alt=\"Open In Colab\"/></a>"
      ]
    },
    {
      "cell_type": "code",
      "execution_count": null,
      "metadata": {
        "colab": {
          "base_uri": "https://localhost:8080/"
        },
        "id": "UdlvVJdvEtn1",
        "outputId": "8a876854-c570-45fc-d910-0968c71c73b5"
      },
      "outputs": [
        {
          "output_type": "stream",
          "name": "stdout",
          "text": [
            "Masukkan bilangan pertama: 5\n",
            "Masukkan bilangan kedua: 10\n",
            "Hasil penjumlahan: 15\n"
          ]
        }
      ],
      "source": [
        "# Program Penjumlahan Dua Bilangan\n",
        "\n",
        "# Input dari pengguna\n",
        "angka1 = int(input(\"Masukkan bilangan pertama: \"))\n",
        "angka2 = int(input(\"Masukkan bilangan kedua: \"))\n",
        "\n",
        "# Proses penjumlahan\n",
        "hasil = angka1 + angka2\n",
        "\n",
        "# Output hasil\n",
        "print(\"Hasil penjumlahan:\", hasil)"
      ]
    },
    {
      "cell_type": "code",
      "source": [
        "# Program Menghitung Luas dan Keliling Persegi Panjang\n",
        "\n",
        "panjang = float(input(\"Masukkan panjang: \"))\n",
        "lebar = float(input(\"Masukkan lebar: \"))\n",
        "\n",
        "luas = panjang * lebar\n",
        "keliling = 2 * (panjang + lebar)\n",
        "\n",
        "print(\"Luas =\", luas)\n",
        "print(\"Keliling =\", keliling)"
      ],
      "metadata": {
        "colab": {
          "base_uri": "https://localhost:8080/"
        },
        "id": "mMMLm91cFhWt",
        "outputId": "7a2fa741-fb53-4044-a089-29e42733fb07"
      },
      "execution_count": null,
      "outputs": [
        {
          "output_type": "stream",
          "name": "stdout",
          "text": [
            "Masukkan panjang: 10\n",
            "Masukkan lebar: 20\n",
            "Luas = 200.0\n",
            "Keliling = 60.0\n"
          ]
        }
      ]
    },
    {
      "cell_type": "code",
      "source": [
        "# Meminta input dari pengguna\n",
        "nama = input(\"Masukkan nama Anda: \")\n",
        "umur = int(input(\"Masukkan umur Anda: \"))\n",
        "\n",
        "# Mengecek apakah umur >= 18\n",
        "if umur >= 18:\n",
        "    print(f\"Halo {nama}, Anda sudah cukup umur.\")\n",
        "else:\n",
        "    print(f\"Halo {nama}, Anda belum cukup umur.\")"
      ],
      "metadata": {
        "colab": {
          "base_uri": "https://localhost:8080/"
        },
        "id": "mbvB8jXLGQl9",
        "outputId": "8ae1ed0e-7432-477f-f265-8a54ac0bd277"
      },
      "execution_count": null,
      "outputs": [
        {
          "output_type": "stream",
          "name": "stdout",
          "text": [
            "Masukkan nama Anda: Izzan\n",
            "Masukkan umur Anda: 18\n",
            "Halo Izzan, Anda sudah cukup umur.\n"
          ]
        }
      ]
    }
  ]
}